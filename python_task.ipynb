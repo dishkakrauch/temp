{
 "cells": [
  {
   "cell_type": "code",
   "execution_count": null,
   "metadata": {},
   "outputs": [],
   "source": [
    "# Необходимо обменять значение двух переменных, не применяя друхи переменных:\n",
    "\n",
    "a = 1\n",
    "b = 'q'"
   ]
  },
  {
   "cell_type": "code",
   "execution_count": null,
   "metadata": {},
   "outputs": [],
   "source": [
    "# Есть два кортежа, получить третий как объединение уникальных элементов первых двух кортежей, не встречающихся одновременно в обоих кортежах:\n",
    "\n",
    "a = (1, 2, 3)\n",
    "b = (3, 4, 5)\n",
    "\n",
    "# (1, 2, 4, 5)"
   ]
  },
  {
   "cell_type": "code",
   "execution_count": 2,
   "metadata": {},
   "outputs": [],
   "source": [
    "# Есть два списка одинаковой длины, в одном ключи, в другом значения. Составить словарь:\n",
    "   \n",
    "a = ('John', 'Peter')\n",
    "b = (1, 2)\n",
    "\n",
    "# {'John': 1, 'Peter': 2}"
   ]
  },
  {
   "cell_type": "code",
   "execution_count": 7,
   "metadata": {},
   "outputs": [],
   "source": [
    "# Есть словарь. Инвертировать его. Т.е. пары ключ: значение поменять местами — `{значение: ключ}`:\n",
    "\n",
    "a = {'John': 1, 'Peter': 2}\n",
    "\n",
    "# {1: 'John', 2: 'Peter'}"
   ]
  },
  {
   "cell_type": "code",
   "execution_count": null,
   "metadata": {},
   "outputs": [],
   "source": [
    "# Есть строка, что вернут срезы?\n",
    "\n",
    "a = 'qwerty'\n",
    "b = a[:-2]\n",
    "c = a[::-1]"
   ]
  },
  {
   "cell_type": "code",
   "execution_count": null,
   "metadata": {},
   "outputs": [],
   "source": [
    "# Вывести список ключей словаря, отсортированный по значению этих ключей в этом словаре, в обратном порядке\n",
    "\n",
    "d = {'apple': 1, 'banana': 5, 'cola': 2, 'durian': 6, 'egg': 3}\n",
    "\n",
    "# ['durian', 'banana', 'egg', 'cola', 'apple']"
   ]
  }
 ],
 "metadata": {
  "kernelspec": {
   "display_name": "base",
   "language": "python",
   "name": "python3"
  },
  "language_info": {
   "codemirror_mode": {
    "name": "ipython",
    "version": 3
   },
   "file_extension": ".py",
   "mimetype": "text/x-python",
   "name": "python",
   "nbconvert_exporter": "python",
   "pygments_lexer": "ipython3",
   "version": "3.9.13"
  },
  "orig_nbformat": 4
 },
 "nbformat": 4,
 "nbformat_minor": 2
}
